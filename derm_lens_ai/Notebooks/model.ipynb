{
 "cells": [
  {
   "cell_type": "code",
   "execution_count": 47,
   "id": "d116650c-101d-4408-9283-ec9e583193dd",
   "metadata": {},
   "outputs": [],
   "source": [
    "import tensorflow as tf\n",
    "from tensorflow import keras\n",
    "import numpy as np\n",
    "import matplotlib.pyplot as plt\n",
    "import matplotlib.image as mpimg\n",
    "from data import DataTransformer, DataExtractor"
   ]
  },
  {
   "cell_type": "markdown",
   "id": "f634422d-ed24-404d-a1a2-2ca5501e9b8c",
   "metadata": {},
   "source": [
    "Data extraction relies on the functionalities provided by the classes delineated in the <b>data</b> notebook. The extracted data serves the purpose of both training and testing the model."
   ]
  },
  {
   "cell_type": "code",
   "execution_count": 3,
   "id": "1b28a582-3b3e-4a8a-be70-20711644c910",
   "metadata": {},
   "outputs": [],
   "source": [
    "extractor = DataExtractor('Train/train_benign', 'Train/train_malign',\n",
    "                          'Test/test_benign', 'Test/test_malign')"
   ]
  },
  {
   "cell_type": "code",
   "execution_count": 4,
   "id": "a740c5eb-0ad9-4be2-8fa7-8d2eedfdf5fe",
   "metadata": {
    "scrolled": true
   },
   "outputs": [],
   "source": [
    "train_data, train_labels, test_data, test_labels = extractor.generate_train_test_data()"
   ]
  },
  {
   "cell_type": "markdown",
   "id": "702aa31f-3c7b-4e9d-9279-ac4bb1d8bf82",
   "metadata": {},
   "source": [
    "The <b>CNNModel</b> class is a versatile tool designed for creating, training, and utilizing <b>melanoma classifiers</b><br>\n",
    "The class provides the flexibility to utilize pre-trained models or create entirely new models through its <b>create_model</b> method. The method serves as a foundational template that can be customized in multiple ways to optimize performance. <br>\n",
    "\n",
    "Using the <b>fit()</b> method, the class enables the training of CNN models on provided training datasets. <br>\n",
    "Additionally, the <b>evaluate()</b> method allows for the assessment of model performance on separate testing datasets, providing metrics such as loss and accuracy. <br>\n",
    "The <b>predict()</b> method enables making predictions on new datasets using the trained model.<br>\n",
    "\n",
    "Furthermore, the <b>predict_for_image()</b> method simplifies the task of predicting the classification of individual images, while also indicating the confidence level associated with the classification made by the model."
   ]
  },
  {
   "cell_type": "code",
   "execution_count": 28,
   "id": "2b3872b0-4a3e-45c5-a796-82ee8d6d6f58",
   "metadata": {},
   "outputs": [],
   "source": [
    "class CNNModel:\n",
    "    def __init__(self, model: keras.models.Model = None,\n",
    "                 train_data: np.ndarray = None,\n",
    "                 train_labels: np.ndarray = None,\n",
    "                 test_data: np.ndarray = None,\n",
    "                 test_labels: np.ndarray = None):\n",
    "        self._label_names = ['Benign', 'Malignant']\n",
    "        self._train_data = train_data\n",
    "        self._train_labels = train_labels\n",
    "        self._test_data = test_data\n",
    "        self._test_labels = test_labels\n",
    "\n",
    "        if model is not None:\n",
    "            self._model = model\n",
    "        else:\n",
    "            self.create_model()\n",
    "\n",
    "    def create_model(self):\n",
    "        # Convolutional layers\n",
    "        self._model = keras.models.Sequential()\n",
    "        self._model.add(keras.layers.Conv2D(64, (3, 3),\n",
    "                                            activation='relu',\n",
    "                                            input_shape=(64, 64, 3)))\n",
    "        self._model.add(keras.layers.MaxPooling2D((2, 2)))\n",
    "        self._model.add(keras.layers.Conv2D(128, (3, 3), activation='relu'))\n",
    "        self._model.add(keras.layers.MaxPooling2D((2, 2)))\n",
    "        self._model.add(keras.layers.Conv2D(128, (3, 3), activation='relu'))\n",
    "        self._model.add(keras.layers.MaxPooling2D((2, 2)))\n",
    "        self._model.add(keras.layers.Conv2D(64, (3, 3), activation='relu'))\n",
    "\n",
    "        # Dense layers\n",
    "        self._model.add(keras.layers.Flatten())\n",
    "        self._model.add(keras.layers.Dense(64, activation='relu'))\n",
    "        self._model.add(keras.layers.Dense(1, activation='sigmoid'))\n",
    "\n",
    "        base_learning_rate = 0.0001\n",
    "        self._model.compile(optimizer=tf.keras.optimizers.Adam(learning_rate=base_learning_rate),\n",
    "                            loss=tf.keras.losses.BinaryCrossentropy(from_logits=False),\n",
    "                            metrics=['accuracy'])\n",
    "\n",
    "    @property\n",
    "    def model(self):\n",
    "        return self._model\n",
    "\n",
    "    @model.setter\n",
    "    def model(self, model: keras.models.Model):\n",
    "        self._model = model\n",
    "\n",
    "    @property\n",
    "    def train_dataset(self):\n",
    "        return self._train_data, self._train_labels\n",
    "\n",
    "    @train_dataset.setter\n",
    "    def train_dataset(self, train_data: np.ndarray, train_labels: np.ndarray):\n",
    "        if train_data is None or train_labels is None:\n",
    "            raise Exception('Train dataset can not contain None elements')\n",
    "        if len(train_data) != len(train_labels):\n",
    "            raise Exception('Training data and labels array must be of same length')\n",
    "        self._train_data = train_data\n",
    "        self._train_labels = train_labels\n",
    "\n",
    "    @property\n",
    "    def test_dataset(self):\n",
    "        return self._test_data, self._train_labels\n",
    "\n",
    "    @test_dataset.setter\n",
    "    def test_dataset(self, test_data: np.ndarray, test_labels: np.ndarray):\n",
    "        if test_data is None or test_labels is None:\n",
    "            raise Exception('Test dataset can not contain None elements')\n",
    "        if len(test_data) != len(test_labels):\n",
    "            raise Exception('Testing data and labels array must be of same length')\n",
    "        self._test_data = test_data\n",
    "        self._test_labels = test_labels\n",
    "\n",
    "    def summary(self):\n",
    "        self._model.summary()\n",
    "\n",
    "    def fit(self, epochs=10, batch_size=128):\n",
    "        if self._train_data is not None and self._train_labels is not None:\n",
    "            if len(self._train_data) == len(self._train_labels):\n",
    "                self._model.fit(self._train_data, self._train_labels,\n",
    "                                epochs=epochs, batch_size=batch_size)\n",
    "            else:\n",
    "                raise Exception('Training data and labels do not match')\n",
    "        else:\n",
    "            raise Exception('No training dataset provided')\n",
    "\n",
    "    def evaluate(self, batch_size=128):\n",
    "        if self._test_data is not None and self._test_labels is not None:\n",
    "            if len(self._test_data) == len(self._test_labels):\n",
    "                loss, accuracy = self._model.evaluate(self._test_data,\n",
    "                                                      self._test_labels,\n",
    "                                                      batch_size=batch_size)\n",
    "                return loss, accuracy\n",
    "            else:\n",
    "                raise Exception('Testing data and labels do not match')\n",
    "        raise Exception('No testing dataset provided')\n",
    "\n",
    "    def predict(self, dataset: np.ndarray):\n",
    "        return self._model.predict(dataset)\n",
    "\n",
    "    def predict_for_image(self, image_path: str,\n",
    "                          resize_dimension: int = 64,\n",
    "                          interpolation: bool = True,\n",
    "                          denoise: bool = True):\n",
    "        img = DataTransformer.transform_image(image_path,\n",
    "                                              resize_dimension,\n",
    "                                              interpolation,\n",
    "                                              denoise)\n",
    "        img = np.expand_dims(img, axis=0)\n",
    "        prediction = self._model.predict(img)[0][0]\n",
    "        if prediction >= 0.5:\n",
    "            prediction_label = self._label_names[1]\n",
    "            confidence = prediction\n",
    "        else:\n",
    "            prediction_label = self._label_names[0]\n",
    "            confidence = 1 - prediction\n",
    "\n",
    "        return prediction_label, confidence\n",
    "\n",
    "    def save(self, name: str):\n",
    "        self._model.save(name)"
   ]
  },
  {
   "cell_type": "markdown",
   "id": "e5b67b52-7529-4868-8365-f66a416b8665",
   "metadata": {},
   "source": [
    "<b>CNNModel</b> instances can be instantiated either by supplying training and testing data or by providing a pre-trained model."
   ]
  },
  {
   "cell_type": "code",
   "execution_count": 7,
   "id": "43d0fcb0-b89d-4482-b026-75df87d5eb0c",
   "metadata": {
    "scrolled": true
   },
   "outputs": [],
   "source": [
    "model = CNNModel(train_data=train_data, train_labels=train_labels,\n",
    "                 test_data=test_data, test_labels=test_labels)"
   ]
  },
  {
   "cell_type": "markdown",
   "id": "6565e7f9-67b1-4f3d-a616-c36cc7c8020e",
   "metadata": {},
   "source": [
    "The <b>summary()</b> method enables visualization of the neural network's structure."
   ]
  },
  {
   "cell_type": "code",
   "execution_count": 8,
   "id": "41e467ad-eb37-4b1a-9ad0-7cb33578b9ac",
   "metadata": {},
   "outputs": [
    {
     "name": "stdout",
     "output_type": "stream",
     "text": [
      "Model: \"sequential_1\"\n",
      "_________________________________________________________________\n",
      " Layer (type)                Output Shape              Param #   \n",
      "=================================================================\n",
      " conv2d_4 (Conv2D)           (None, 62, 62, 64)        1792      \n",
      "                                                                 \n",
      " max_pooling2d_3 (MaxPoolin  (None, 31, 31, 64)        0         \n",
      " g2D)                                                            \n",
      "                                                                 \n",
      " conv2d_5 (Conv2D)           (None, 29, 29, 128)       73856     \n",
      "                                                                 \n",
      " max_pooling2d_4 (MaxPoolin  (None, 14, 14, 128)       0         \n",
      " g2D)                                                            \n",
      "                                                                 \n",
      " conv2d_6 (Conv2D)           (None, 12, 12, 128)       147584    \n",
      "                                                                 \n",
      " max_pooling2d_5 (MaxPoolin  (None, 6, 6, 128)         0         \n",
      " g2D)                                                            \n",
      "                                                                 \n",
      " conv2d_7 (Conv2D)           (None, 4, 4, 64)          73792     \n",
      "                                                                 \n",
      " flatten_1 (Flatten)         (None, 1024)              0         \n",
      "                                                                 \n",
      " dense_2 (Dense)             (None, 64)                65600     \n",
      "                                                                 \n",
      " dense_3 (Dense)             (None, 1)                 65        \n",
      "                                                                 \n",
      "=================================================================\n",
      "Total params: 362689 (1.38 MB)\n",
      "Trainable params: 362689 (1.38 MB)\n",
      "Non-trainable params: 0 (0.00 Byte)\n",
      "_________________________________________________________________\n"
     ]
    }
   ],
   "source": [
    "model.summary()"
   ]
  },
  {
   "cell_type": "markdown",
   "id": "c35e4bc8-cad7-4f8f-bcfa-c0a64cd7a99a",
   "metadata": {},
   "source": [
    "<br><b>Training and testing of the model</b>"
   ]
  },
  {
   "cell_type": "code",
   "execution_count": 9,
   "id": "de9754da-845d-493a-b768-0e8fc927b98a",
   "metadata": {},
   "outputs": [
    {
     "name": "stdout",
     "output_type": "stream",
     "text": [
      "Epoch 1/10\n"
     ]
    },
    {
     "name": "stderr",
     "output_type": "stream",
     "text": [
      "2024-03-03 14:51:48.095746: W external/local_tsl/tsl/framework/cpu_allocator_impl.cc:83] Allocation of 583876608 exceeds 10% of free system memory.\n",
      "2024-03-03 14:51:48.512919: W external/local_tsl/tsl/framework/cpu_allocator_impl.cc:83] Allocation of 583876608 exceeds 10% of free system memory.\n",
      "2024-03-03 14:51:49.654413: I external/local_xla/xla/stream_executor/cuda/cuda_dnn.cc:454] Loaded cuDNN version 8906\n",
      "2024-03-03 14:51:51.150871: I external/local_xla/xla/service/service.cc:168] XLA service 0x7f098962d7e0 initialized for platform CUDA (this does not guarantee that XLA will be used). Devices:\n",
      "2024-03-03 14:51:51.150915: I external/local_xla/xla/service/service.cc:176]   StreamExecutor device (0): NVIDIA GeForce RTX 3050 Laptop GPU, Compute Capability 8.6\n",
      "2024-03-03 14:51:51.157107: I tensorflow/compiler/mlir/tensorflow/utils/dump_mlir_util.cc:269] disabling MLIR crash reproducer, set env var `MLIR_CRASH_REPRODUCER_DIRECTORY` to enable.\n",
      "WARNING: All log messages before absl::InitializeLog() is called are written to STDERR\n",
      "I0000 00:00:1709477511.228959   28284 device_compiler.h:186] Compiled cluster using XLA!  This line is logged at most once for the lifetime of the process.\n"
     ]
    },
    {
     "name": "stdout",
     "output_type": "stream",
     "text": [
      "93/93 [==============================] - 15s 87ms/step - loss: 0.5841 - accuracy: 0.6714\n",
      "Epoch 2/10\n",
      "93/93 [==============================] - 4s 46ms/step - loss: 0.4302 - accuracy: 0.7957\n",
      "Epoch 3/10\n",
      "93/93 [==============================] - 4s 46ms/step - loss: 0.3920 - accuracy: 0.8199\n",
      "Epoch 4/10\n",
      "93/93 [==============================] - 4s 46ms/step - loss: 0.3801 - accuracy: 0.8286\n",
      "Epoch 5/10\n",
      "93/93 [==============================] - 4s 46ms/step - loss: 0.3643 - accuracy: 0.8364\n",
      "Epoch 6/10\n",
      "93/93 [==============================] - 4s 46ms/step - loss: 0.3619 - accuracy: 0.8347\n",
      "Epoch 7/10\n",
      "93/93 [==============================] - 4s 46ms/step - loss: 0.3403 - accuracy: 0.8503\n",
      "Epoch 8/10\n",
      "93/93 [==============================] - 4s 46ms/step - loss: 0.3369 - accuracy: 0.8529\n",
      "Epoch 9/10\n",
      "93/93 [==============================] - 4s 46ms/step - loss: 0.3408 - accuracy: 0.8480\n",
      "Epoch 10/10\n",
      "93/93 [==============================] - 4s 46ms/step - loss: 0.3282 - accuracy: 0.8543\n"
     ]
    }
   ],
   "source": [
    "model.fit(epochs=10)"
   ]
  },
  {
   "cell_type": "code",
   "execution_count": 10,
   "id": "7882ebc1-304d-49ef-a509-845103fc4434",
   "metadata": {},
   "outputs": [
    {
     "name": "stdout",
     "output_type": "stream",
     "text": [
      "16/16 [==============================] - 1s 79ms/step - loss: 0.3187 - accuracy: 0.8640\n"
     ]
    }
   ],
   "source": [
    "test_loss, test_acc = model.evaluate()"
   ]
  },
  {
   "cell_type": "markdown",
   "id": "6c7cf792-6823-45d5-8b26-60a7a3b54e7f",
   "metadata": {},
   "source": [
    "<br><b>Saving a model</b>"
   ]
  },
  {
   "cell_type": "code",
   "execution_count": 11,
   "id": "ddccf0c6-7742-4025-9d46-eb669c7fb7ce",
   "metadata": {},
   "outputs": [],
   "source": [
    "model.save('derm_lens.keras')"
   ]
  },
  {
   "cell_type": "markdown",
   "id": "b4a9121a-0f8c-44c4-9d90-b6cd5c99081c",
   "metadata": {},
   "source": [
    "<br><b>Making predictions on sets of images</b><br>\n",
    "Please note that the output neuron of the neural network employs the <b>sigmoid activation function</b> to constrain the output within the range of 0 to 1. Consequently, a value closer to 0 indicates a <b>benign</b> classification, whereas a value closer to 1 indicates a <b>malignant</b> classification."
   ]
  },
  {
   "cell_type": "code",
   "execution_count": 12,
   "id": "5a31485c-b863-4d03-bc4a-edc21122c391",
   "metadata": {},
   "outputs": [
    {
     "name": "stdout",
     "output_type": "stream",
     "text": [
      "63/63 [==============================] - 1s 12ms/step\n"
     ]
    }
   ],
   "source": [
    "predictions = model.predict(test_data)"
   ]
  },
  {
   "cell_type": "code",
   "execution_count": 14,
   "id": "318a4a46-5308-4427-a209-2d7e4f86fa3b",
   "metadata": {},
   "outputs": [
    {
     "name": "stdout",
     "output_type": "stream",
     "text": [
      "[0.23560499]\n"
     ]
    }
   ],
   "source": [
    "print(predictions[1])"
   ]
  },
  {
   "cell_type": "markdown",
   "id": "39fbc7ed-381f-4ccb-8aee-299f52ee806c",
   "metadata": {},
   "source": [
    "<br><b>Obtaining predictions and confidence levels for individual images.</b>"
   ]
  },
  {
   "cell_type": "code",
   "execution_count": 45,
   "id": "c6ca3124-28ac-408d-9023-813b937158c0",
   "metadata": {},
   "outputs": [
    {
     "name": "stdout",
     "output_type": "stream",
     "text": [
      "1/1 [==============================] - 0s 19ms/step\n"
     ]
    }
   ],
   "source": [
    "result, confidence = model.predict_for_image('Test/test_benign/6303.jpg')"
   ]
  },
  {
   "cell_type": "code",
   "execution_count": 49,
   "id": "27867b1d-2e2d-42c4-8239-565bfde4c8a3",
   "metadata": {},
   "outputs": [
    {
     "name": "stdout",
     "output_type": "stream",
     "text": [
      "Prediction:  Benign\n",
      "Confidence:  0.8962490931153297\n"
     ]
    },
    {
     "data": {
      "image/png": "[encoded data removed]",
      "text/plain": [
       "<Figure size 640x480 with 1 Axes>"
      ]
     },
     "metadata": {},
     "output_type": "display_data"
    }
   ],
   "source": [
    "plt.imshow(mpimg.imread('Test/test_benign/6303.jpg'))\n",
    "print(\"Prediction: \", result)\n",
    "print(\"Confidence: \", confidence)"
   ]
  },
  {
   "cell_type": "code",
   "execution_count": 56,
   "id": "33f8b105-a618-404e-a1c2-aae57f27aea6",
   "metadata": {},
   "outputs": [
    {
     "name": "stdout",
     "output_type": "stream",
     "text": [
      "1/1 [==============================] - 0s 20ms/step\n",
      "Prediction:  Malignant\n",
      "Confidence:  0.9936528\n"
     ]
    },
    {
     "data": {
      "image/png": "[encoded data removed]",
      "text/plain": [
       "<Figure size 640x480 with 1 Axes>"
      ]
     },
     "metadata": {},
     "output_type": "display_data"
    }
   ],
   "source": [
    "result, confidence = model.predict_for_image('Test/test_malign/5620.jpg')\n",
    "plt.imshow(mpimg.imread('Test/test_malign/5620.jpg'))\n",
    "print(\"Prediction: \", result)\n",
    "print(\"Confidence: \", confidence)"
   ]
  }
 ],
 "metadata": {
  "kernelspec": {
   "display_name": "Python 3 (ipykernel)",
   "language": "python",
   "name": "python3"
  },
  "language_info": {
   "codemirror_mode": {
    "name": "ipython",
    "version": 3
   },
   "file_extension": ".py",
   "mimetype": "text/x-python",
   "name": "python",
   "nbconvert_exporter": "python",
   "pygments_lexer": "ipython3",
   "version": "3.11.0rc1"
  }
 },
 "nbformat": 4,
 "nbformat_minor": 5
}
